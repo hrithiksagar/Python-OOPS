{
 "cells": [
  {
   "cell_type": "markdown",
   "metadata": {},
   "source": [
    "Single Level Inheritance"
   ]
  },
  {
   "cell_type": "code",
   "execution_count": 10,
   "metadata": {},
   "outputs": [],
   "source": [
    "class A:\n",
    "    def feature1(self):\n",
    "        print(\"Feature 1 of Class A working\")\n",
    "        \n",
    "    def feature2(self):\n",
    "        print(\"Feature 2 of Class A working\")"
   ]
  },
  {
   "cell_type": "code",
   "execution_count": 11,
   "metadata": {},
   "outputs": [
    {
     "name": "stdout",
     "output_type": "stream",
     "text": [
      "Feature 1 of Class A working\n",
      "Feature 2 of Class A working\n"
     ]
    }
   ],
   "source": [
    "a1 = A()\n",
    "a1.feature1()\n",
    "a1.feature2()"
   ]
  },
  {
   "cell_type": "code",
   "execution_count": 12,
   "metadata": {},
   "outputs": [],
   "source": [
    "class B:\n",
    "    def feature3(self):\n",
    "        print(\"Feature 3 of Class B working\")\n",
    "        \n",
    "    def feature4(self):\n",
    "        print(\"Feature 4 of Class B working\")"
   ]
  },
  {
   "cell_type": "code",
   "execution_count": 13,
   "metadata": {},
   "outputs": [
    {
     "name": "stdout",
     "output_type": "stream",
     "text": [
      "Feature 3 of Class B working\n",
      "Feature 4 of Class B working\n"
     ]
    }
   ],
   "source": [
    "b1 = B()\n",
    "b1.feature3()\n",
    "b1.feature4()"
   ]
  },
  {
   "cell_type": "markdown",
   "metadata": {},
   "source": [
    "this b1 cant access features of Class A, we have to write again all the features of Class A but that is not optimal, so \n",
    "How to get feature of A also? like feature 1 and 2 which are in A Class\n",
    "\n",
    "- to get it write Class B(A)\n",
    "- (Child\\Sub Class)"
   ]
  },
  {
   "cell_type": "code",
   "execution_count": 18,
   "metadata": {},
   "outputs": [],
   "source": [
    "class B(A):\n",
    "    def feature3(self):\n",
    "        print(\"Feature 3 of Class B working\")\n",
    "        \n",
    "    def feature4(self):\n",
    "        print(\"Feature 4 of Class B working\")\n",
    "    "
   ]
  },
  {
   "cell_type": "code",
   "execution_count": 19,
   "metadata": {},
   "outputs": [
    {
     "name": "stdout",
     "output_type": "stream",
     "text": [
      "Feature 1 of Class A working\n",
      "Feature 2 of Class A working\n",
      "Feature 3 of Class B working\n",
      "Feature 4 of Class B working\n"
     ]
    }
   ],
   "source": [
    "b2 = B()\n",
    "b2.feature1()\n",
    "b2.feature2()\n",
    "b2.feature3()\n",
    "b2.feature4()"
   ]
  },
  {
   "cell_type": "markdown",
   "metadata": {},
   "source": [
    "B = Sub class\n",
    "A = Super Class\n",
    "- and this is concept of single inheritance"
   ]
  },
  {
   "cell_type": "markdown",
   "metadata": {},
   "source": [
    "nowww Multi level Inheritance --->"
   ]
  },
  {
   "cell_type": "code",
   "execution_count": 20,
   "metadata": {},
   "outputs": [],
   "source": [
    "class C(B):\n",
    "    def feature5(self):\n",
    "        print(\"Feature 5 of Class C is working\")"
   ]
  },
  {
   "cell_type": "code",
   "execution_count": 21,
   "metadata": {},
   "outputs": [
    {
     "name": "stdout",
     "output_type": "stream",
     "text": [
      "Feature 1 of Class A working\n",
      "Feature 3 of Class B working\n",
      "Feature 5 of Class C is working\n"
     ]
    }
   ],
   "source": [
    "c1 = C()\n",
    "c1.feature1()\n",
    "c1.feature3()\n",
    "c1.feature5()"
   ]
  },
  {
   "cell_type": "markdown",
   "metadata": {},
   "source": [
    "Multiple Inheritance"
   ]
  },
  {
   "cell_type": "code",
   "execution_count": 27,
   "metadata": {},
   "outputs": [],
   "source": [
    "class A:\n",
    "    def feature1(self):\n",
    "        print(\"Feature 1 of Class A working\")\n",
    "        \n",
    "    def feature2(self):\n",
    "        print(\"Feature 2 of Class A working\")\n",
    "        \n",
    "class B:\n",
    "    def feature3(self):\n",
    "        print(\"Feature 3 of Class B working\")\n",
    "        \n",
    "    def feature4(self):\n",
    "        print(\"Feature 4 of Class B working\")\n",
    "\n",
    "class C(A,B):# inheriting from both A and B\n",
    "    def feature5(self):\n",
    "        print(\"Feature 5 of Class C is working\")"
   ]
  },
  {
   "cell_type": "code",
   "execution_count": 28,
   "metadata": {},
   "outputs": [
    {
     "name": "stdout",
     "output_type": "stream",
     "text": [
      "Feature 3 of Class B working\n"
     ]
    }
   ],
   "source": [
    "c2 = C()\n",
    "c2.feature3()\n",
    "# this cant access features of B because we did not write C(A,B)"
   ]
  },
  {
   "cell_type": "code",
   "execution_count": null,
   "metadata": {},
   "outputs": [],
   "source": []
  }
 ],
 "metadata": {
  "kernelspec": {
   "display_name": "plants_venv",
   "language": "python",
   "name": "python3"
  },
  "language_info": {
   "codemirror_mode": {
    "name": "ipython",
    "version": 3
   },
   "file_extension": ".py",
   "mimetype": "text/x-python",
   "name": "python",
   "nbconvert_exporter": "python",
   "pygments_lexer": "ipython3",
   "version": "3.10.9"
  },
  "orig_nbformat": 4
 },
 "nbformat": 4,
 "nbformat_minor": 2
}
