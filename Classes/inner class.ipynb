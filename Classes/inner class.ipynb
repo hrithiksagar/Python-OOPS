{
 "cells": [
  {
   "cell_type": "markdown",
   "metadata": {},
   "source": [
    "This is a class inside a class"
   ]
  },
  {
   "cell_type": "code",
   "execution_count": 2,
   "metadata": {},
   "outputs": [],
   "source": [
    "class student:\n",
    "\n",
    "    def __init__(self,name, rollno):\n",
    "        self.name = name\n",
    "        self.rollno = rollno\n",
    "        \n",
    "    \n"
   ]
  },
  {
   "cell_type": "code",
   "execution_count": 5,
   "metadata": {},
   "outputs": [
    {
     "name": "stdout",
     "output_type": "stream",
     "text": [
      "Hrithik 2\n"
     ]
    }
   ],
   "source": [
    "s1 = student('Hrithik',2)\n",
    "s2 = student('Navin', 1)\n",
    "print(s1.name, s1.rollno)"
   ]
  },
  {
   "cell_type": "markdown",
   "metadata": {},
   "source": [
    "But we dont need answer like this, i want to show all the info when i type s1.show()\n",
    "so lets see how to do it"
   ]
  },
  {
   "cell_type": "code",
   "execution_count": 22,
   "metadata": {},
   "outputs": [],
   "source": [
    "class student:\n",
    "\n",
    "    def __init__(self,name, rollno):\n",
    "        self.name = name\n",
    "        self.rollno = rollno\n",
    "        \n",
    "    def show(self):\n",
    "        print(\"Name is: \"+ self.name + \", Roll no is: \", self.rollno)"
   ]
  },
  {
   "cell_type": "code",
   "execution_count": 23,
   "metadata": {},
   "outputs": [
    {
     "name": "stdout",
     "output_type": "stream",
     "text": [
      "Name is: Hrithik, Roll no is:  2\n"
     ]
    }
   ],
   "source": [
    "s1 = student('Hrithik',2)\n",
    "s1.show()"
   ]
  },
  {
   "cell_type": "markdown",
   "metadata": {},
   "source": [
    "Now lets see how to write \"Inner Class\""
   ]
  },
  {
   "cell_type": "code",
   "execution_count": 35,
   "metadata": {},
   "outputs": [],
   "source": [
    "class student: # outer class\n",
    "\n",
    "    def __init__(self,name, rollno):\n",
    "        self.name = name\n",
    "        self.rollno = rollno\n",
    "        self.lap = self.laptop() # defining variable of inner class in outer class\n",
    "        \n",
    "    def show(self):\n",
    "        print(\"Name is: \"+ self.name + \", Roll no is: \", self.rollno)\n",
    "        self.lap.show()\n",
    "        \n",
    "    class laptop: # inner class\n",
    "        def __init__(self):\n",
    "            self.brand = \"HP\"\n",
    "            self.cpu = \"i5\"\n",
    "            self.ram = 8\n",
    "            \n",
    "        def show(self):\n",
    "            print(self.brand, self.cpu, self.ram)\n",
    "            "
   ]
  },
  {
   "cell_type": "code",
   "execution_count": 36,
   "metadata": {},
   "outputs": [
    {
     "name": "stdout",
     "output_type": "stream",
     "text": [
      "4393094064\n"
     ]
    }
   ],
   "source": [
    "s1 = student('Hrithik',2)\n",
    "lap1 = s1.lap\n",
    "print(id(lap1))"
   ]
  },
  {
   "cell_type": "code",
   "execution_count": 38,
   "metadata": {},
   "outputs": [
    {
     "name": "stdout",
     "output_type": "stream",
     "text": [
      "Name is: Hrithik, Roll no is:  2\n",
      "HP i5 8\n",
      "HP i5 8\n"
     ]
    }
   ],
   "source": [
    "s1.show()\n",
    "s1.lap.show()\n"
   ]
  },
  {
   "cell_type": "code",
   "execution_count": null,
   "metadata": {},
   "outputs": [],
   "source": []
  }
 ],
 "metadata": {
  "kernelspec": {
   "display_name": "plants_venv",
   "language": "python",
   "name": "python3"
  },
  "language_info": {
   "codemirror_mode": {
    "name": "ipython",
    "version": 3
   },
   "file_extension": ".py",
   "mimetype": "text/x-python",
   "name": "python",
   "nbconvert_exporter": "python",
   "pygments_lexer": "ipython3",
   "version": "3.10.9"
  },
  "orig_nbformat": 4
 },
 "nbformat": 4,
 "nbformat_minor": 2
}
