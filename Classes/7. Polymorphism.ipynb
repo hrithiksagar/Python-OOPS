{
 "cells": [
  {
   "cell_type": "markdown",
   "metadata": {},
   "source": [
    "Polymorphism contains 4 types:\n",
    "1. Duck Typing\n",
    "2. Operators Overloading\n",
    "3. Method Overloading\n",
    "4. Method Over-riding "
   ]
  }
 ],
 "metadata": {
  "language_info": {
   "name": "python"
  },
  "orig_nbformat": 4
 },
 "nbformat": 4,
 "nbformat_minor": 2
}
