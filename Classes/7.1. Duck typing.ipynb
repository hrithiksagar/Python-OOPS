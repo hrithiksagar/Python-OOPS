{
 "cells": [
  {
   "cell_type": "code",
   "execution_count": null,
   "metadata": {},
   "outputs": [],
   "source": []
  },
  {
   "cell_type": "markdown",
   "metadata": {},
   "source": [
    "if a behaviour of code that works like duck then its known as duck typing"
   ]
  },
  {
   "cell_type": "markdown",
   "metadata": {},
   "source": [
    "X \n",
    "this is variable but before giving a variable value, it will be just a memory\n",
    "so \n",
    "x = 5\n",
    "now x is a integer\n",
    "...\n",
    "x type is unique before declaring it with a value, just a memory.\n"
   ]
  },
  {
   "cell_type": "code",
   "execution_count": 4,
   "metadata": {},
   "outputs": [],
   "source": [
    "class pycharm:\n",
    "    def execute(self):\n",
    "        print(\"Compiling\")\n",
    "        \n",
    "class myeditor:\n",
    "    def execute(self):\n",
    "        print(\"Spell Check\")\n",
    "        print(\"Running\")\n",
    "        \n",
    "class laptop:\n",
    "    def code(self, ide):\n",
    "        ide.execute()"
   ]
  },
  {
   "cell_type": "code",
   "execution_count": 6,
   "metadata": {},
   "outputs": [
    {
     "name": "stdout",
     "output_type": "stream",
     "text": [
      "Compiling\n"
     ]
    }
   ],
   "source": [
    "ide = pycharm()\n",
    "lap = laptop()\n",
    "lap.code(ide)"
   ]
  },
  {
   "cell_type": "code",
   "execution_count": 8,
   "metadata": {},
   "outputs": [
    {
     "name": "stdout",
     "output_type": "stream",
     "text": [
      "Spell Check\n",
      "Running\n"
     ]
    }
   ],
   "source": [
    "ide1 = myeditor() #\n",
    "lap1 = laptop()\n",
    "lap1.code(ide1)"
   ]
  },
  {
   "cell_type": "code",
   "execution_count": null,
   "metadata": {},
   "outputs": [],
   "source": []
  }
 ],
 "metadata": {
  "kernelspec": {
   "display_name": "plants_venv",
   "language": "python",
   "name": "python3"
  },
  "language_info": {
   "codemirror_mode": {
    "name": "ipython",
    "version": 3
   },
   "file_extension": ".py",
   "mimetype": "text/x-python",
   "name": "python",
   "nbconvert_exporter": "python",
   "pygments_lexer": "ipython3",
   "version": "3.10.9"
  },
  "orig_nbformat": 4
 },
 "nbformat": 4,
 "nbformat_minor": 2
}
