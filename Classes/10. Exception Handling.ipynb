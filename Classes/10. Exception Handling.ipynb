{
 "cells": [
  {
   "cell_type": "markdown",
   "metadata": {},
   "source": [
    "Exceptional Handling\n",
    "examples:\n",
    "- Compile time error\n",
    "  - missing :\n",
    "  - wrong spelling\n",
    "- Logical errors\n",
    "  - wrong outputs\n",
    "- Run time Error\n",
    "  - Code is not actually giving logical error or any other error but giving user error\n",
    "  - divide by zero\n",
    "Easiest error to find is compile time error\n",
    "\n",
    "\n",
    " "
   ]
  },
  {
   "cell_type": "code",
   "execution_count": 14,
   "metadata": {},
   "outputs": [
    {
     "name": "stdout",
     "output_type": "stream",
     "text": [
      "A/B =  2.5\n",
      "Printing A by 0\n",
      "    Zero division Error\n",
      "Code End\n"
     ]
    }
   ],
   "source": [
    "a = 5\n",
    "b = 2\n",
    "#print(a/0) # this will give an error ZeroDivisionError\n",
    "print(\"A/B = \",+a/b)\n",
    "try:\n",
    "    print(\"Printing A by 0\")\n",
    "    print(a/0)\n",
    "except Exception as e: # e is representation of error \n",
    "    print(\"    Zero division Error\")\n",
    "    \n",
    "print(\"Code End\")"
   ]
  },
  {
   "cell_type": "code",
   "execution_count": 21,
   "metadata": {},
   "outputs": [
    {
     "name": "stdout",
     "output_type": "stream",
     "text": [
      "A/B =  2.5\n",
      "Resource Open\n",
      "2\n",
      "PrTrying to Divide A by 0\n",
      "    Zero division Error\n",
      "resourse closed\n",
      "Resource Closed\n",
      "Code End\n"
     ]
    }
   ],
   "source": [
    "print(\"A/B = \",+a/b)\n",
    "try:\n",
    "    print(\"Resource Open\")\n",
    "    k = int(input(\"Enter integer\"))\n",
    "    print(k)\n",
    "    print(\"Trying to Divide A by 0\")\n",
    "    print(a/0)\n",
    "    \n",
    "    \n",
    "except Exception as e: \n",
    "    print(\"    Zero division Error\")\n",
    "    print(\"resourse closed\")\n",
    "    \n",
    "finally:\n",
    "    print(\"Resource Closed\")\n",
    "    \n",
    "print(\"Code End\")"
   ]
  },
  {
   "cell_type": "code",
   "execution_count": null,
   "metadata": {},
   "outputs": [],
   "source": []
  }
 ],
 "metadata": {
  "kernelspec": {
   "display_name": "plants_venv",
   "language": "python",
   "name": "python3"
  },
  "language_info": {
   "codemirror_mode": {
    "name": "ipython",
    "version": 3
   },
   "file_extension": ".py",
   "mimetype": "text/x-python",
   "name": "python",
   "nbconvert_exporter": "python",
   "pygments_lexer": "ipython3",
   "version": "3.10.9"
  },
  "orig_nbformat": 4
 },
 "nbformat": 4,
 "nbformat_minor": 2
}
