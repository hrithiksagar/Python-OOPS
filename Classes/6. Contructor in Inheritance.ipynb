{
 "cells": [
  {
   "cell_type": "markdown",
   "metadata": {},
   "source": [
    "Constuctor in Inheritance"
   ]
  },
  {
   "cell_type": "code",
   "execution_count": 3,
   "metadata": {},
   "outputs": [],
   "source": [
    "class A:\n",
    "    \n",
    "    def __init__(self):\n",
    "        print(\"In a __init__ method\")\n",
    "    def feature1(self):\n",
    "        print(\"Feature 1 of Class A working\")\n",
    "        \n",
    "    def feature2(self):\n",
    "        print(\"Feature 2 of Class A working\")\n",
    "        \n",
    "class B(A):\n",
    "    def feature3(self):\n",
    "        print(\"Feature 3 of Class B working\")\n",
    "        \n",
    "    def feature4(self):\n",
    "        print(\"Feature 4 of Class B working\")"
   ]
  },
  {
   "cell_type": "code",
   "execution_count": 4,
   "metadata": {},
   "outputs": [
    {
     "name": "stdout",
     "output_type": "stream",
     "text": [
      "In a __init__ method\n"
     ]
    }
   ],
   "source": [
    "a1 = A()"
   ]
  },
  {
   "cell_type": "code",
   "execution_count": 9,
   "metadata": {},
   "outputs": [
    {
     "name": "stdout",
     "output_type": "stream",
     "text": [
      "In a __init__ method\n"
     ]
    }
   ],
   "source": [
    "a1 = B()\n",
    "#will this call constructor of A?\n",
    "# lets run and see if it does"
   ]
  },
  {
   "cell_type": "code",
   "execution_count": 10,
   "metadata": {},
   "outputs": [],
   "source": [
    "# Yes it does Call"
   ]
  },
  {
   "cell_type": "code",
   "execution_count": 11,
   "metadata": {},
   "outputs": [],
   "source": [
    "#what if there is a constructor in B already? will it will call constructor from A?"
   ]
  },
  {
   "cell_type": "code",
   "execution_count": 12,
   "metadata": {},
   "outputs": [],
   "source": [
    "class A:\n",
    "    \n",
    "    def __init__(self):\n",
    "        print(\"In Class A __init__ method\")\n",
    "    def feature1(self):\n",
    "        print(\"Feature 1 of Class A working\")\n",
    "        \n",
    "    def feature2(self):\n",
    "        print(\"Feature 2 of Class A working\")\n",
    "        \n",
    "class B(A):\n",
    "    def __init__(self):\n",
    "        print(\"In the Class B __init__ method\")\n",
    "    def feature3(self):\n",
    "        print(\"Feature 3 of Class B working\")\n",
    "        \n",
    "    def feature4(self):\n",
    "        print(\"Feature 4 of Class B working\")"
   ]
  },
  {
   "cell_type": "code",
   "execution_count": 13,
   "metadata": {},
   "outputs": [
    {
     "name": "stdout",
     "output_type": "stream",
     "text": [
      "In the Class B __init__ method\n"
     ]
    }
   ],
   "source": [
    "a2 = B()"
   ]
  },
  {
   "cell_type": "code",
   "execution_count": 15,
   "metadata": {},
   "outputs": [],
   "source": [
    "# this calls Class B's init, as it is having its own init method now\n"
   ]
  },
  {
   "cell_type": "code",
   "execution_count": 16,
   "metadata": {},
   "outputs": [],
   "source": [
    "#Can we call both Class A and CLass B init method from Creaing B object?"
   ]
  },
  {
   "cell_type": "code",
   "execution_count": 17,
   "metadata": {},
   "outputs": [],
   "source": [
    "#yes by using Super keyword"
   ]
  },
  {
   "cell_type": "code",
   "execution_count": 20,
   "metadata": {},
   "outputs": [],
   "source": [
    "class A:\n",
    "    \n",
    "    def __init__(self):\n",
    "        print(\"In Class A __init__ method\")\n",
    "    def feature1(self):\n",
    "        print(\"Feature 1 of Class A working\")\n",
    "        \n",
    "    def feature2(self):\n",
    "        print(\"Feature 2 of Class A working\")\n",
    "        \n",
    "class B(A):\n",
    "    def __init__(self):\n",
    "        super().__init__()\n",
    "        print(\"in Class B Super Keyword __init__\")\n",
    "    def feature3(self):\n",
    "        print(\"Feature 3 of Class B working\")\n",
    "        \n",
    "    def feature4(self):\n",
    "        print(\"Feature 4 of Class B working\")"
   ]
  },
  {
   "cell_type": "code",
   "execution_count": 21,
   "metadata": {},
   "outputs": [
    {
     "name": "stdout",
     "output_type": "stream",
     "text": [
      "In Class A __init__ method\n",
      "in Class B Super Keyword __init__\n"
     ]
    }
   ],
   "source": [
    "a3 = B()"
   ]
  },
  {
   "cell_type": "code",
   "execution_count": null,
   "metadata": {},
   "outputs": [],
   "source": []
  },
  {
   "cell_type": "code",
   "execution_count": 22,
   "metadata": {},
   "outputs": [],
   "source": [
    "class A:\n",
    "    \n",
    "    def __init__(self):\n",
    "        print(\"In Class A __init__ method\")\n",
    "    def feature1(self):\n",
    "        print(\"Feature 1 of Class A working\")\n",
    "        \n",
    "    def feature2(self):\n",
    "        print(\"Feature 2 of Class A working\")\n",
    "        \n",
    "class B:\n",
    "    def __init__(self):\n",
    "        print(\"in Class B __init__\")\n",
    "    def feature3(self):\n",
    "        print(\"Feature 3 of Class B working\")\n",
    "        \n",
    "    def feature4(self):\n",
    "        print(\"Feature 4 of Class B working\")\n",
    "        \n",
    "class C(A,B):\n",
    "    def __init__(self):\n",
    "        print(\"In Class C init\")"
   ]
  },
  {
   "cell_type": "code",
   "execution_count": 23,
   "metadata": {},
   "outputs": [
    {
     "name": "stdout",
     "output_type": "stream",
     "text": [
      "In Class C init\n"
     ]
    }
   ],
   "source": [
    "c1 = C()"
   ]
  },
  {
   "cell_type": "code",
   "execution_count": 24,
   "metadata": {},
   "outputs": [],
   "source": [
    "#to call Superclass init method"
   ]
  },
  {
   "cell_type": "code",
   "execution_count": 25,
   "metadata": {},
   "outputs": [],
   "source": [
    "class A:\n",
    "    \n",
    "    def __init__(self):\n",
    "        print(\"In Class A __init__ method\")\n",
    "    def feature1(self):\n",
    "        print(\"Feature 1 of Class A working\")\n",
    "        \n",
    "    def feature2(self):\n",
    "        print(\"Feature 2 of Class A working\")\n",
    "        \n",
    "class B:\n",
    "    def __init__(self):\n",
    "        print(\"in Class B __init__\")\n",
    "    def feature3(self):\n",
    "        print(\"Feature 3 of Class B working\")\n",
    "        \n",
    "    def feature4(self):\n",
    "        print(\"Feature 4 of Class B working\")\n",
    "        \n",
    "class C(A,B):\n",
    "    def __init__(self):\n",
    "        super().__init__()\n",
    "        print(\"In Class C super keyword init\")"
   ]
  },
  {
   "cell_type": "code",
   "execution_count": 26,
   "metadata": {},
   "outputs": [
    {
     "name": "stdout",
     "output_type": "stream",
     "text": [
      "In Class A __init__ method\n",
      "In Class C super keyword init\n"
     ]
    }
   ],
   "source": [
    "c2 = C()"
   ]
  },
  {
   "cell_type": "markdown",
   "metadata": {},
   "source": [
    "this is biased!!!! not taking Class B init, it should be taking right? because both are its parents\n",
    "basically whats happeing here is:\n",
    "Class C will first try to find its own init method, then goes from left to right for parents init\n",
    "\n",
    "Always goes from Left --> Right,\n",
    "take Methods or init"
   ]
  },
  {
   "cell_type": "code",
   "execution_count": 28,
   "metadata": {},
   "outputs": [],
   "source": [
    "#so to do that:\n",
    "#there is a method calles as MRO (Method Resolution Order)"
   ]
  },
  {
   "cell_type": "markdown",
   "metadata": {},
   "source": []
  },
  {
   "cell_type": "code",
   "execution_count": 29,
   "metadata": {},
   "outputs": [],
   "source": [
    "class A:\n",
    "    \n",
    "    def __init__(self):\n",
    "        print(\"In Class A __init__ method\")\n",
    "    def feature1(self):\n",
    "        print(\"Feature 1 of Class A working\")\n",
    "        \n",
    "    def feature2(self):\n",
    "        print(\"Feature 2 of Class A working\")\n",
    "        \n",
    "class B:\n",
    "    def __init__(self):\n",
    "        print(\"in Class B __init__\")\n",
    "    def feature3(self):\n",
    "        print(\"Feature 3 of Class B working\")\n",
    "        \n",
    "    def feature4(self):\n",
    "        print(\"Feature 4 of Class B working\")\n",
    "        \n",
    "class C(A,B):\n",
    "    def __init__(self):\n",
    "        super().__init__()\n",
    "        print(\"In Class C super keyword init\")\n",
    "    \n",
    "    def feat(self):\n",
    "        super().feature2()"
   ]
  },
  {
   "cell_type": "code",
   "execution_count": 30,
   "metadata": {},
   "outputs": [
    {
     "name": "stdout",
     "output_type": "stream",
     "text": [
      "In Class A __init__ method\n",
      "In Class C super keyword init\n",
      "Feature 2 of Class A working\n"
     ]
    }
   ],
   "source": [
    "d1 = C()\n",
    "d1.feat()"
   ]
  },
  {
   "cell_type": "code",
   "execution_count": null,
   "metadata": {},
   "outputs": [],
   "source": []
  }
 ],
 "metadata": {
  "kernelspec": {
   "display_name": "plants_venv",
   "language": "python",
   "name": "python3"
  },
  "language_info": {
   "codemirror_mode": {
    "name": "ipython",
    "version": 3
   },
   "file_extension": ".py",
   "mimetype": "text/x-python",
   "name": "python",
   "nbconvert_exporter": "python",
   "pygments_lexer": "ipython3",
   "version": "3.10.9"
  },
  "orig_nbformat": 4
 },
 "nbformat": 4,
 "nbformat_minor": 2
}
